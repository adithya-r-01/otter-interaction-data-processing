{
 "cells": [
  {
   "cell_type": "code",
   "execution_count": 35,
   "metadata": {},
   "outputs": [
    {
     "name": "stdout",
     "output_type": "stream",
     "text": [
      "[[-6616 13880 -1380   915   -68   -49]\n",
      " [-6624 13924 -1496   909   -41  -136]\n",
      " [-6680 13896 -1408   917   -46  -148]\n",
      " [-6636 13996 -1508   913   -35  -111]\n",
      " [-6668 13896 -1616   902   -47   -47]\n",
      " [-6716 13944 -1496   916   -43   -40]\n",
      " [-6616 13972 -1412   879   -57    -5]\n",
      " [-6584 13884 -1536   918   -47   -25]\n",
      " [-6920 14192 -1584   892   -10  -164]\n",
      " [-7792 15016 -1524  1022   -80   -68]\n",
      " [-6928 14244 -1484   773  -112   261]\n",
      " [-6396 13764 -1416   939   -72   112]\n",
      " [-6636 14020 -1596   892   -43  -154]\n",
      " [-6520 13836 -1524   946     4  -242]\n",
      " [-6776 13916 -1552   926     8  -333]\n",
      " [-6916 14008 -1568   891   -64   -54]\n",
      " [-6592 13936 -1460   866  -113   216]\n",
      " [-7439 14457 -1484   882   -50  -215]\n",
      " [-7428 14181 -1544   859   -31   -72]\n",
      " [-6953 13921 -1383   842   -60  -204]\n",
      " [-7659 13911 -1385   828   -73   -30]\n",
      " [-7302 14506 -1541   805    -5  -161]\n",
      " [-6774 14464 -1433   883   -35  -131]\n",
      " [-6671 14053 -1498   862   -68  -213]\n",
      " [-6856 14775 -1454   800   -84   -66]\n",
      " [-6908 14577 -1445   996   -54  -228]\n",
      " [-6411 14121 -1446   788   -45  -290]\n",
      " [-6711 14938 -1461  1009   -57  -199]\n",
      " [-7142 14179 -1385   859    -1  -246]\n",
      " [-7156 14056 -1409   776   -52   -74]\n",
      " [-7720 14760 -1451   902     0  -228]\n",
      " [-6913 14999 -1397   816   -72   -85]\n",
      " [-6899 14273 -1548   971   -45   -46]\n",
      " [-7785 14042 -1438   910   -65   -12]\n",
      " [-6592 13923 -1487   890   -88   -35]\n",
      " [-6485 14768 -1560   962    -7  -253]\n",
      " [-6879 14971 -1536   894  -100  -105]\n",
      " [-7468 14832 -1559   806   -87  -201]\n",
      " [-7471 14035 -1478   851   -24  -213]\n",
      " [-6955 14582 -1499   880    -9  -111]\n",
      " [-7332 14711 -1565   983   -10  -224]\n",
      " [-6602 14700 -1587  1020   -27  -154]\n",
      " [-7532 14382 -1489   910   -99   -49]\n",
      " [-7236 14873 -1594   910   -96  -103]\n",
      " [-7369 14287 -1398   943    -7  -140]\n",
      " [-6445 14678 -1469   796   -63  -167]\n",
      " [-6504 14970 -1435   983   -80   -54]\n",
      " [-7351 14289 -1564   907   -18  -259]\n",
      " [-7084 14991 -1444   866   -95  -121]\n",
      " [-7288 14358 -1414   783   -57  -284]\n",
      " [-6417 14304 -1405   955    -7   -74]\n",
      " [-6981 14882 -1491   950   -58  -171]\n",
      " [-6773 14699 -1474   884   -15   -77]\n",
      " [-6807 14873 -1438  1021   -42  -237]\n",
      " [-6685 14423 -1544   850    -6  -288]\n",
      " [-7512 14306 -1380  1018     2   -74]\n",
      " [-6593 14337 -1526   814  -100  -101]\n",
      " [-7160 14364 -1438  1007   -94  -196]\n",
      " [-6376 13902 -1428   788   -97  -148]\n",
      " [-7730 14049 -1554   978    -1  -293]\n",
      " [-7481 13933 -1520   794   -50  -225]\n",
      " [-6443 14666 -1530   835    -4   -38]\n",
      " [-7615 14991 -1393   988   -25   -11]\n",
      " [-7231 14105 -1485  1020   -95  -144]\n",
      " [-7416 13954 -1593   879   -79  -271]\n",
      " [-6699 14796 -1444   921   -40  -234]\n",
      " [-7698 14242 -1424   949    -8    -9]\n",
      " [-7002 14836 -1397   876   -79   -68]\n",
      " [-7564 14098 -1417   783   -17  -238]\n",
      " [-7757 14949 -1438  1005   -52  -219]\n",
      " [-6988 14646 -1571   782   -28  -257]\n",
      " [-7056 14154 -1400   972   -12  -100]\n",
      " [-6975 13992 -1450   852   -73   -61]\n",
      " [-6715 13903 -1384   887   -96  -277]\n",
      " [-7665 14054 -1534   929   -23  -284]\n",
      " [-7596 14841 -1600   887   -83  -121]\n",
      " [-6465 14256 -1454   947   -49  -292]\n",
      " [-7633 14026 -1447   851   -35    -4]\n",
      " [-6599 14224 -1548  1015   -26  -171]\n",
      " [-6676 14176 -1489   838   -11  -237]\n",
      " [-7121 14695 -1461   954   -47  -146]\n",
      " [-6873 14058 -1481   954   -15  -178]\n",
      " [-7440 14524 -1584   927   -42  -114]\n",
      " [-7259 14250 -1594   854   -90  -198]\n",
      " [-7591 14517 -1542   866    -9   -38]\n",
      " [-7192 14801 -1495   903   -67   -77]\n",
      " [-7319 14056 -1547   930   -90  -120]\n",
      " [-7546 14927 -1462   956   -65  -234]\n",
      " [-7088 13918 -1384   829   -38  -243]\n",
      " [-7282 14202 -1431   994     5  -222]\n",
      " [-7683 14756 -1491   810   -76  -163]\n",
      " [-7165 14331 -1559   861   -10  -165]\n",
      " [-7606 14988 -1405   897   -17  -207]]\n"
     ]
    }
   ],
   "source": [
    "import pandas as pd\n",
    "import numpy as np\n",
    "import matplotlib.pyplot as plt\n",
    "\n",
    "data = pd.read_csv('gpu6050_data_sample.csv').values\n",
    "print(data)"
   ]
  },
  {
   "cell_type": "code",
   "execution_count": 3,
   "metadata": {},
   "outputs": [],
   "source": [
    "def moving_average(data, n):\n",
    "  return (np.convolve(data, np.ones(n)/n, mode='valid'))\n",
    "\n",
    "# fuse A(t) and G(t) to get theta(t) for accurate displacement with reduced drift\n",
    "def complementary_filter(data):\n",
    "    pass"
   ]
  },
  {
   "cell_type": "code",
   "execution_count": 6,
   "metadata": {},
   "outputs": [
    {
     "name": "stdout",
     "output_type": "stream",
     "text": [
      "<class 'numpy.ndarray'>\n"
     ]
    },
    {
     "data": {
      "image/png": "[encoded data removed]",
      "text/plain": [
       "<Figure size 432x288 with 1 Axes>"
      ]
     },
     "metadata": {
      "needs_background": "light"
     },
     "output_type": "display_data"
    }
   ],
   "source": [
    "# Extract all Data into configured directions\n",
    "Ax = data[:,0]\n",
    "Ay = data[:,1]\n",
    "Az = data[:,2]\n",
    "Gx = data[:,3]\n",
    "Gy = data[:,4]\n",
    "Gz = data[:,5]\n",
    "\n",
    "Ax_avg = moving_average(Ax, 3)\n",
    "Ay_avg = moving_average(Ay, 3)\n",
    "Az_avg = moving_average(Az, 3)\n",
    "\n",
    "plt.plot(Ax_avg)\n",
    "plt.plot(Ay_avg)\n",
    "plt.plot(Az_avg)\n",
    "plt.legend(['X', 'Y', 'Z'])\n",
    "plt.xlabel('Time')\n",
    "plt.ylabel('Acceleration')"
   ]
  },
  {
   "cell_type": "code",
   "execution_count": 40,
   "metadata": {},
   "outputs": [
    {
     "ename": "SyntaxError",
     "evalue": "invalid syntax (3169063929.py, line 8)",
     "output_type": "error",
     "traceback": [
      "\u001b[0;36m  Input \u001b[0;32mIn [40]\u001b[0;36m\u001b[0m\n\u001b[0;31m    print(dA[,].size)\u001b[0m\n\u001b[0m             ^\u001b[0m\n\u001b[0;31mSyntaxError\u001b[0m\u001b[0;31m:\u001b[0m invalid syntax\n"
     ]
    }
   ],
   "source": [
    "# get jerk over time visualization\n",
    "\n",
    "dt = 0.3 # from what I know\n",
    "dAxdt = np.diff(Ax) / dt\n",
    "dAydt = np.diff(Ay) / dt\n",
    "dAzdt = np.diff(Az) / dt\n",
    "dA = np.array([[dAxdt], [dAydt], [dAzdt]])\n",
    "\n",
    "# plt can do gifs"
   ]
  },
  {
   "cell_type": "code",
   "execution_count": 41,
   "metadata": {},
   "outputs": [],
   "source": [
    "# Symmetry readings using gyroscope"
   ]
  },
  {
   "cell_type": "code",
   "execution_count": null,
   "metadata": {},
   "outputs": [],
   "source": []
  }
 ],
 "metadata": {
  "kernelspec": {
   "display_name": "Python 3 (ipykernel)",
   "language": "python",
   "name": "python3"
  },
  "language_info": {
   "codemirror_mode": {
    "name": "ipython",
    "version": 3
   },
   "file_extension": ".py",
   "mimetype": "text/x-python",
   "name": "python",
   "nbconvert_exporter": "python",
   "pygments_lexer": "ipython3",
   "version": "3.9.12"
  },
  "vscode": {
   "interpreter": {
    "hash": "50ee164985434c382edb33b6320afbd222b2ac4021f454a3fafe249ad7ef2cf9"
   }
  }
 },
 "nbformat": 4,
 "nbformat_minor": 2
}
