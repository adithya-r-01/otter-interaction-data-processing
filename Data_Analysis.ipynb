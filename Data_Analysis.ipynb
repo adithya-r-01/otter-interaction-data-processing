{
 "cells": [
  {
   "cell_type": "code",
   "execution_count": 1,
   "metadata": {},
   "outputs": [],
   "source": [
    "import pandas as pd\n",
    "import numpy as np\n",
    "import matplotlib.pyplot as plt\n",
    "\n",
    "data = pd.read_csv('/content/gpu6050_data_sample.csv').values\n"
   ]
  },
  {
   "cell_type": "code",
   "execution_count": null,
   "metadata": {},
   "outputs": [],
   "source": [
    "def moving_average(data, n):\n",
    "  return (np.convolve(data, np.ones(n)/n, mode='valid'))"
   ]
  },
  {
   "cell_type": "code",
   "execution_count": null,
   "metadata": {},
   "outputs": [],
   "source": [
    "# Extract all Data into configured directions\n",
    "Ax = data[:,0]\n",
    "Ay = data[:,1]\n",
    "Az = data[:,2]\n",
    "Gx = data[:,3]\n",
    "Gy = data[:,4]\n",
    "Gz = data[:,5]\n",
    "\n",
    "Ax_avg = moving_average(Ax, 3)\n",
    "Ay_avg = moving_average(Ay, 3)\n",
    "Az_avg = moving_average(Az, 3)\n",
    "\n",
    "plt.plot(Ax_avg)\n",
    "plt.plot(Ay_avg)\n",
    "plt.plot(Az_avg)\n",
    "plt.legend(['X', 'Y', 'Z'])\n",
    "plt.xlabel('Time')\n",
    "plt.ylabel('Acceleration')"
   ]
  }
 ],
 "metadata": {
  "kernelspec": {
   "display_name": "Python 3.9.7 ('ml_hw2')",
   "language": "python",
   "name": "python3"
  },
  "language_info": {
   "codemirror_mode": {
    "name": "ipython",
    "version": 3
   },
   "file_extension": ".py",
   "mimetype": "text/x-python",
   "name": "python",
   "nbconvert_exporter": "python",
   "pygments_lexer": "ipython3",
   "version": "3.9.7"
  },
  "orig_nbformat": 4,
  "vscode": {
   "interpreter": {
    "hash": "50ee164985434c382edb33b6320afbd222b2ac4021f454a3fafe249ad7ef2cf9"
   }
  }
 },
 "nbformat": 4,
 "nbformat_minor": 2
}
